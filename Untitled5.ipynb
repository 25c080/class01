{
  "nbformat": 4,
  "nbformat_minor": 0,
  "metadata": {
    "colab": {
      "provenance": [],
      "authorship_tag": "ABX9TyNv/MKdPOT5DqQi0aSTHJb3",
      "include_colab_link": true
    },
    "kernelspec": {
      "name": "python3",
      "display_name": "Python 3"
    },
    "language_info": {
      "name": "python"
    }
  },
  "cells": [
    {
      "cell_type": "markdown",
      "metadata": {
        "id": "view-in-github",
        "colab_type": "text"
      },
      "source": [
        "<a href=\"https://colab.research.google.com/github/25c080/class01/blob/main/Untitled5.ipynb\" target=\"_parent\"><img src=\"https://colab.research.google.com/assets/colab-badge.svg\" alt=\"Open In Colab\"/></a>"
      ]
    },
    {
      "cell_type": "code",
      "execution_count": null,
      "metadata": {
        "colab": {
          "base_uri": "https://localhost:8080/"
        },
        "id": "_8lQIW_qZppr",
        "outputId": "2a7169c0-2c09-446c-e35f-49a4536e1ba7"
      },
      "outputs": [
        {
          "output_type": "stream",
          "name": "stdout",
          "text": [
            "덧셈 시험\n",
            "1. 6 + 4 =\n",
            "2. 1 + 19 =\n",
            "3. 5 + 16 =\n",
            "4. 4 + 10 =\n",
            "5. 15 + 19 =\n",
            "6. 13 + 3 =\n",
            "7. 16 + 14 =\n",
            "8. 4 + 10 =\n",
            "9. 8 + 4 =\n",
            "10. 5 + 16 =\n",
            "\n",
            "답안:\n"
          ]
        }
      ],
      "source": [
        "# prompt: 간단한 덧셈 시험지를 입력해서 마지막에 결과가 나오게 하나 만들어줘.\n",
        "\n",
        "import random\n",
        "\n",
        "def generate_addition_test(num_questions=10):\n",
        "    \"\"\"Generates a simple addition test with the specified number of questions.\"\"\"\n",
        "\n",
        "    questions = []\n",
        "    answers = []\n",
        "\n",
        "    for _ in range(num_questions):\n",
        "        num1 = random.randint(1, 20)\n",
        "        num2 = random.randint(1, 20)\n",
        "        questions.append(f\"{num1} + {num2} = \")\n",
        "        answers.append(num1 + num2)\n",
        "\n",
        "    return questions, answers\n",
        "\n",
        "def run_test():\n",
        "  \"\"\"Runs the addition test and provides feedback.\"\"\"\n",
        "  num_questions = int(input(\"문제 개수를 입력하세요 (기본값 10): \") or 10)\n",
        "  questions, answers = generate_addition_test(num_questions)\n",
        "\n",
        "  user_answers = []\n",
        "  for i, question in enumerate(questions):\n",
        "      while True:\n",
        "          try:\n",
        "              user_answer = int(input(f\"{i+1}. {question} \"))\n",
        "              user_answers.append(user_answer)\n",
        "              break\n",
        "          except ValueError:\n",
        "              print(\"숫자를 입력해주세요.\")\n",
        "\n",
        "  correct_count = 0\n",
        "  for i in range(num_questions):\n",
        "      if user_answers[i] == answers[i]:\n",
        "          correct_count += 1\n",
        "          print(f\"{i + 1}. 정답입니다!\")\n",
        "      else:\n",
        "          print(f\"{i + 1}. 오답입니다. 정답은 {answers[i]}입니다.\")\n",
        "\n",
        "  print(f\"\\n총 {num_questions}문제 중 {correct_count}개를 맞혔습니다.\")\n",
        "  print(f\"점수: {int((correct_count / num_questions) * 100)}점\")\n",
        "\n",
        "if __name__ == \"__main__\":\n",
        "  run_test()\n"
      ]
    }
  ]
}