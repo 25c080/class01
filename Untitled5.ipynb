{
  "nbformat": 4,
  "nbformat_minor": 0,
  "metadata": {
    "colab": {
      "provenance": [],
      "authorship_tag": "ABX9TyMftZKGL8JP+6I/iqBy+u6G",
      "include_colab_link": true
    },
    "kernelspec": {
      "name": "python3",
      "display_name": "Python 3"
    },
    "language_info": {
      "name": "python"
    }
  },
  "cells": [
    {
      "cell_type": "markdown",
      "metadata": {
        "id": "view-in-github",
        "colab_type": "text"
      },
      "source": [
        "<a href=\"https://colab.research.google.com/github/25c080/class01/blob/main/Untitled5.ipynb\" target=\"_parent\"><img src=\"https://colab.research.google.com/assets/colab-badge.svg\" alt=\"Open In Colab\"/></a>"
      ]
    },
    {
      "cell_type": "code",
      "execution_count": null,
      "metadata": {
        "colab": {
          "base_uri": "https://localhost:8080/"
        },
        "id": "_8lQIW_qZppr",
        "outputId": "f5d2e421-ac0e-47ee-efc7-8bb4e7d6eb1d"
      },
      "outputs": [
        {
          "output_type": "stream",
          "name": "stdout",
          "text": [
            "\n",
            "덧셈 시험지\n",
            "\n",
            "1. 11 + 4 = ______\n",
            "2. 4 + 18 = ______\n",
            "3. 5 + 6 = ______\n",
            "4. 2 + 5 = ______\n",
            "5. 3 + 9 = ______\n",
            "6. 8 + 15 = ______\n",
            "7. 19 + 12 = ______\n",
            "8. 20 + 20 = ______\n",
            "9. 14 + 7 = ______\n",
            "10. 8 + 18 = ______\n"
          ]
        }
      ],
      "source": [
        "# prompt: 간단한 덧셈 시험지를 입력해서 마지막에 결과가 나오게 하나 만들어줘.\n",
        "\n",
        "import random\n",
        "\n",
        "def generate_addition_quiz(num_questions=10):\n",
        "  \"\"\"Generates a simple addition quiz with a specified number of questions.\"\"\"\n",
        "\n",
        "  quiz = []\n",
        "  for i in range(num_questions):\n",
        "    num1 = random.randint(1, 20)  # Generate random numbers between 1 and 20\n",
        "    num2 = random.randint(1, 20)\n",
        "    quiz.append(f\"{i+1}. {num1} + {num2} = ______\")\n",
        "\n",
        "  print(\"\\n덧셈 시험지\\n\")\n",
        "  for question in quiz:\n",
        "      print(question)\n",
        "\n",
        "  answers = []\n",
        "  for i in range(num_questions):\n",
        "    while True:\n",
        "        try:\n",
        "            answer = int(input(f\"{i+1}번 문제 정답을 입력하세요: \"))\n",
        "            answers.append(answer)\n",
        "            break  # Exit the loop if input is valid\n",
        "        except ValueError:\n",
        "            print(\"잘못된 입력입니다. 정수를 입력하세요.\")\n",
        "\n",
        "\n",
        "  correct_answers = 0\n",
        "  for i in range(num_questions):\n",
        "    num1 = int(quiz[i].split(\". \")[1].split(\" + \")[0])\n",
        "    num2 = int(quiz[i].split(\" + \")[1].split(\" = \")[0])\n",
        "    if answers[i] == num1 + num2:\n",
        "      correct_answers += 1\n",
        "\n",
        "  print(f\"\\n채점 결과: {correct_answers}/{num_questions}\")\n",
        "  print(f\"정답률: { (correct_answers / num_questions) * 100:.2f}%\")\n",
        "\n",
        "# Example usage:\n",
        "generate_addition_quiz()\n"
      ]
    }
  ]
}