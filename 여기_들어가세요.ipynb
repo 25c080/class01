{
  "nbformat": 4,
  "nbformat_minor": 0,
  "metadata": {
    "colab": {
      "provenance": [],
      "authorship_tag": "ABX9TyOZSUE75Mlu2/o9FJvtak5I",
      "include_colab_link": true
    },
    "kernelspec": {
      "name": "python3",
      "display_name": "Python 3"
    },
    "language_info": {
      "name": "python"
    }
  },
  "cells": [
    {
      "cell_type": "markdown",
      "metadata": {
        "id": "view-in-github",
        "colab_type": "text"
      },
      "source": [
        "<a href=\"https://colab.research.google.com/github/25c080/class01/blob/main/%EC%97%AC%EA%B8%B0_%EB%93%A4%EC%96%B4%EA%B0%80%EC%84%B8%EC%9A%94.ipynb\" target=\"_parent\"><img src=\"https://colab.research.google.com/assets/colab-badge.svg\" alt=\"Open In Colab\"/></a>"
      ]
    },
    {
      "cell_type": "code",
      "execution_count": 2,
      "metadata": {
        "colab": {
          "base_uri": "https://localhost:8080/"
        },
        "id": "cahNeHXiThnm",
        "outputId": "74d79fe8-1254-46fa-ce47-e1747d436421"
      },
      "outputs": [
        {
          "output_type": "stream",
          "name": "stdout",
          "text": [
            "안녕! 맞춤법 게임에 온 걸 환영해! 😀\n",
            "문제를 잘 보고 맞는 단어를 골라봐.\n",
            "맞히면 스티커 1개! 틀리면 스티커를 하나 잃어버려! 😥\n",
            "그럼 시작해 볼까? 🎉\n",
            "------------------------------\n",
            "문제! 다음 중 올바른 단어는 무엇일까요?\n",
            "1. 나무늘보\n",
            "2. 나무느을보\n",
            "정답 번호를 입력하세요: 1\n",
            "딩동댕! 맞았어요! 👍\n",
            "지금까지 모은 스티커 개수는 1개 입니다! ✨\n",
            "------------------------------\n",
            "문제! 다음 중 올바른 단어는 무엇일까요?\n",
            "1. 강아지\n",
            "2. 강아쥐\n",
            "정답 번호를 입력하세요: 1\n",
            "딩동댕! 맞았어요! 👍\n",
            "지금까지 모은 스티커 개수는 2개 입니다! ✨\n",
            "------------------------------\n",
            "문제! 다음 중 올바른 단어는 무엇일까요?\n",
            "1. 빠나나\n",
            "2. 바나나\n",
            "정답 번호를 입력하세요: 2\n",
            "딩동댕! 맞았어요! 👍\n",
            "지금까지 모은 스티커 개수는 3개 입니다! ✨\n",
            "------------------------------\n",
            "문제! 다음 중 올바른 단어는 무엇일까요?\n",
            "1. 자동차\n",
            "2. 쟈동차\n",
            "정답 번호를 입력하세요: 1\n",
            "딩동댕! 맞았어요! 👍\n",
            "지금까지 모은 스티커 개수는 4개 입니다! ✨\n",
            "------------------------------\n",
            "문제! 다음 중 올바른 단어는 무엇일까요?\n",
            "1. 코끼리\n",
            "2. 코키리\n",
            "정답 번호를 입력하세요: 1\n",
            "딩동댕! 맞았어요! 👍\n",
            "지금까지 모은 스티커 개수는 5개 입니다! ✨\n",
            "------------------------------\n",
            "게임이 끝났어요! 수고했어요! 😊\n",
            "최종 스티커 개수는 5개 입니다! 🎉\n"
          ]
        }
      ],
      "source": [
        "\n",
        "# prompt: 초등학교 1학년이 풀 수 있는 맞히면 스티커를 1개 주고 틀리면 스티커 1개를 빼앗는  맞춤법 게임 만들어줘.\n",
        "\n",
        "import random\n",
        "\n",
        "# 맞춤법 문제와 정답 딕셔너리\n",
        "quiz_data = {\n",
        "    \"나무늘보\": [\"나무느을보\", \"나무늘보\"],\n",
        "    \"강아지\": [\"강아쥐\", \"강아지\"],\n",
        "    \"코끼리\": [\"코키리\", \"코끼리\"],\n",
        "    \"바나나\": [\"빠나나\", \"바나나\"],\n",
        "    \"자동차\": [\"자동차\", \"쟈동차\"],\n",
        "}\n",
        "\n",
        "def spelling_game():\n",
        "    \"\"\"초등학교 1학년을 위한 맞춤법 게임\"\"\"\n",
        "    stickers = 0  # 스티커 개수 초기화\n",
        "\n",
        "    print(\"안녕! 맞춤법 게임에 온 걸 환영해! 😀\")\n",
        "    print(\"문제를 잘 보고 맞는 단어를 골라봐.\")\n",
        "    print(\"맞히면 스티커 1개! 틀리면 스티커를 하나 잃어버려! 😥\")\n",
        "    print(\"그럼 시작해 볼까? 🎉\")\n",
        "    print(\"-\" * 30)\n",
        "\n",
        "    questions = list(quiz_data.keys())\n",
        "    random.shuffle(questions) # 문제를 무작위로 섞음\n",
        "\n",
        "    for question in questions:\n",
        "        print(f\"문제! 다음 중 올바른 단어는 무엇일까요?\")\n",
        "        options = quiz_data[question]\n",
        "        random.shuffle(options) # 선택지 순서를 무작위로 섞음\n",
        "\n",
        "        # 선택지 출력\n",
        "        for i, option in enumerate(options):\n",
        "            print(f\"{i + 1}. {option}\")\n",
        "\n",
        "        while True:\n",
        "            try:\n",
        "                answer_index = int(input(\"정답 번호를 입력하세요: \")) - 1\n",
        "                if 0 <= answer_index < len(options):\n",
        "                    break\n",
        "                else:\n",
        "                    print(\"앗! 숫자를 다시 확인해 줘.\")\n",
        "            except ValueError:\n",
        "                print(\"앗! 숫자를 입력해야 해.\")\n",
        "\n",
        "        selected_answer = options[answer_index]\n",
        "\n",
        "        if selected_answer == question:\n",
        "            print(\"딩동댕! 맞았어요! 👍\")\n",
        "            stickers += 1\n",
        "        else:\n",
        "            print(f\"아쉽지만 틀렸어요. 정답은 '{question}' 이었어요. 😢\")\n",
        "            stickers -= 1\n",
        "\n",
        "        print(f\"지금까지 모은 스티커 개수는 {stickers}개 입니다! ✨\")\n",
        "        print(\"-\" * 30)\n",
        "\n",
        "    print(\"게임이 끝났어요! 수고했어요! 😊\")\n",
        "    print(f\"최종 스티커 개수는 {stickers}개 입니다! 🎉\")\n",
        "\n",
        "# 게임 실행\n",
        "spelling_game()\n"
      ]
    }
  ]
}