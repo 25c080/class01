{
  "nbformat": 4,
  "nbformat_minor": 0,
  "metadata": {
    "colab": {
      "provenance": [],
      "authorship_tag": "ABX9TyNCfGA8NmimvwiL7S9qUye2",
      "include_colab_link": true
    },
    "kernelspec": {
      "name": "python3",
      "display_name": "Python 3"
    },
    "language_info": {
      "name": "python"
    }
  },
  "cells": [
    {
      "cell_type": "markdown",
      "metadata": {
        "id": "view-in-github",
        "colab_type": "text"
      },
      "source": [
        "<a href=\"https://colab.research.google.com/github/25c080/class01/blob/main/Untitled5.ipynb\" target=\"_parent\"><img src=\"https://colab.research.google.com/assets/colab-badge.svg\" alt=\"Open In Colab\"/></a>"
      ]
    },
    {
      "cell_type": "code",
      "execution_count": 4,
      "metadata": {
        "colab": {
          "base_uri": "https://localhost:8080/"
        },
        "id": "_8lQIW_qZppr",
        "outputId": "bc8b37e2-6e69-4d95-ab03-00a9ebcaab6c"
      },
      "outputs": [
        {
          "output_type": "stream",
          "name": "stdout",
          "text": [
            "덧셈 시험\n",
            "1. 20 + 1 =\n",
            "2. 10 + 7 =\n",
            "3. 6 + 4 =\n",
            "4. 16 + 19 =\n",
            "5. 2 + 19 =\n",
            "6. 15 + 4 =\n",
            "7. 9 + 16 =\n",
            "8. 6 + 12 =\n",
            "9. 15 + 14 =\n",
            "10. 19 + 13 =\n",
            "\n",
            "답안:\n",
            "1. ㄹ\n",
            "숫자를 입력해주세요.\n",
            "1. 4\n",
            "2. 4\n",
            "3. 4\n",
            "4. 4\n",
            "5. \n",
            "숫자를 입력해주세요.\n",
            "5. 4\n",
            "6. \n",
            "숫자를 입력해주세요.\n",
            "6. \n",
            "숫자를 입력해주세요.\n",
            "6. \n",
            "숫자를 입력해주세요.\n",
            "6. \n",
            "숫자를 입력해주세요.\n",
            "6. 4\n",
            "7. 4\n",
            "8. 4\n",
            "9. \n",
            "숫자를 입력해주세요.\n",
            "9. 4\n",
            "10. 4\n",
            "\n",
            "채점 결과: 0/10\n"
          ]
        }
      ],
      "source": [
        "4444444# prompt: 간단한 덧셈 시험지를 입력해서 마지막에 결과가 나오게 하나 만들어줘.\n",
        "\n",
        "import random\n",
        "\n",
        "def generate_addition_test(num_questions=10):\n",
        "  \"\"\"Generates a simple addition test with a specified number of questions.\"\"\"\n",
        "\n",
        "  questions = []\n",
        "  answers = []\n",
        "\n",
        "  for _ in range(num_questions):\n",
        "    num1 = random.randint(1, 20)  # Adjust the range as needed\n",
        "    num2 = random.randint(1, 20)\n",
        "    questions.append(f\"{num1} + {num2} =\")\n",
        "    answers.append(num1 + num2)\n",
        "\n",
        "  print(\"덧셈 시험\")\n",
        "  for i, question in enumerate(questions):\n",
        "    print(f\"{i+1}. {question}\")\n",
        "  print(\"\\n답안:\")\n",
        "\n",
        "  user_answers = []\n",
        "  for i in range(num_questions):\n",
        "      while True:\n",
        "          try:\n",
        "              user_input = int(input(f\"{i + 1}. \"))\n",
        "              user_answers.append(user_input)\n",
        "              break\n",
        "          except ValueError:\n",
        "              print(\"숫자를 입력해주세요.\")\n",
        "\n",
        "  correct_count = 0\n",
        "  for i in range(num_questions):\n",
        "    if user_answers[i] == answers[i]:\n",
        "      correct_count += 1\n",
        "\n",
        "  print(f\"\\n채점 결과: {correct_count}/{num_questions}\")\n",
        "\n",
        "# Example usage:\n",
        "generate_addition_test()\n"
      ]
    }
  ]
}