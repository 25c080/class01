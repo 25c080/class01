{
  "nbformat": 4,
  "nbformat_minor": 0,
  "metadata": {
    "colab": {
      "provenance": [],
      "authorship_tag": "ABX9TyMF3zGirfRaGxhgNq9Qtzst",
      "include_colab_link": true
    },
    "kernelspec": {
      "name": "python3",
      "display_name": "Python 3"
    },
    "language_info": {
      "name": "python"
    }
  },
  "cells": [
    {
      "cell_type": "markdown",
      "metadata": {
        "id": "view-in-github",
        "colab_type": "text"
      },
      "source": [
        "<a href=\"https://colab.research.google.com/github/25c080/class01/blob/main/Untitled6.ipynb\" target=\"_parent\"><img src=\"https://colab.research.google.com/assets/colab-badge.svg\" alt=\"Open In Colab\"/></a>"
      ]
    },
    {
      "cell_type": "code",
      "execution_count": 3,
      "metadata": {
        "colab": {
          "base_uri": "https://localhost:8080/"
        },
        "id": "X5gxD-b1f_g9",
        "outputId": "926b7e93-6f6b-45cf-9a87-afb7d7a08b99"
      },
      "outputs": [
        {
          "output_type": "stream",
          "name": "stdout",
          "text": [
            "Question 1: 71 + 6 = 3\n",
            "Wrong. The correct answer is 77\n",
            "Question 2: 32 + 7 = 3\n",
            "Wrong. The correct answer is 39\n",
            "Question 3: 69 + 3 = 3\n",
            "Wrong. The correct answer is 72\n",
            "Question 4: 76 + 2 = 3\n",
            "Wrong. The correct answer is 78\n",
            "Question 5: 86 + 8 = 3\n",
            "Wrong. The correct answer is 94\n",
            "\n",
            "Game Over!\n",
            "Your score: 0/5\n",
            "\n",
            "Here are the questions you got wrong:\n",
            "71 + 6 = 77 (Your answer: 3)\n",
            "32 + 7 = 39 (Your answer: 3)\n",
            "69 + 3 = 72 (Your answer: 3)\n",
            "76 + 2 = 78 (Your answer: 3)\n",
            "86 + 8 = 94 (Your answer: 3)\n"
          ]
        }
      ],
      "source": [
        "# prompt: 간단한 덧셈게임 마지막에 결과가 나오고 무슨 문제가 틀렸는지 알려줘.\n",
        "\n",
        "import random\n",
        "\n",
        "def simple_addition_game():\n",
        "    score = 0\n",
        "    wrong_answers = []\n",
        "\n",
        "    num_questions = 5  # You can change the number of questions\n",
        "\n",
        "    for i in range(num_questions):\n",
        "        num1 = random.randint(10, 99)\n",
        "        num2 = random.randint(1, 9)\n",
        "        correct_answer = num1 + num2\n",
        "\n",
        "        try:\n",
        "            user_answer = int(input(f\"Question {i+1}: {num1} + {num2} = \"))\n",
        "            if user_answer == correct_answer:\n",
        "                print(\"Correct!\")\n",
        "                score += 1\n",
        "            else:\n",
        "                print(f\"Wrong. The correct answer is {correct_answer}\")\n",
        "                wrong_answers.append((num1, num2, correct_answer, user_answer))\n",
        "        except ValueError:\n",
        "            print(\"Invalid input. Please enter a number.\")\n",
        "            wrong_answers.append((num1, num2, correct_answer, \"Invalid Input\"))\n",
        "\n",
        "    print(\"\\nGame Over!\")\n",
        "    print(f\"Your score: {score}/{num_questions}\")\n",
        "\n",
        "    if wrong_answers:\n",
        "        print(\"\\nHere are the questions you got wrong:\")\n",
        "        for num1, num2, correct_answer, user_answer in wrong_answers:\n",
        "            print(f\"{num1} + {num2} = {correct_answer} (Your answer: {user_answer})\")\n",
        "\n",
        "simple_addition_game()\n"
      ]
    }
  ]
}