{
  "nbformat": 4,
  "nbformat_minor": 0,
  "metadata": {
    "colab": {
      "provenance": [],
      "authorship_tag": "ABX9TyPdI5/i2OnIKVwnlurZ+EEA",
      "include_colab_link": true
    },
    "kernelspec": {
      "name": "python3",
      "display_name": "Python 3"
    },
    "language_info": {
      "name": "python"
    }
  },
  "cells": [
    {
      "cell_type": "markdown",
      "metadata": {
        "id": "view-in-github",
        "colab_type": "text"
      },
      "source": [
        "<a href=\"https://colab.research.google.com/github/25c080/class01/blob/main/1%ED%95%99%EB%85%84%EC%A0%84%EC%9A%A9.ipynb\" target=\"_parent\"><img src=\"https://colab.research.google.com/assets/colab-badge.svg\" alt=\"Open In Colab\"/></a>"
      ]
    },
    {
      "cell_type": "code",
      "execution_count": 3,
      "metadata": {
        "colab": {
          "base_uri": "https://localhost:8080/"
        },
        "id": "8CPNZ98XQ9A7",
        "outputId": "db14bb16-240b-4461-ea6e-731132b9ad6a"
      },
      "outputs": [
        {
          "output_type": "stream",
          "name": "stdout",
          "text": [
            "안녕! 신나는 맞춤법 게임에 온 걸 환영해!\n",
            "아래 문장에서 틀린 맞춤법을 찾아서 고쳐봐!\n",
            "문제를 다 맞히면 멋진 스티커를 10개 줄게!\n",
            "\n",
            "===== 문제 1 =====\n",
            "다음 문장을 바르게 고쳐보세요:\n",
            "강아지가 너무 기엽다.\n",
            "정답: 강아지가 너무 귀엽다.\n",
            "짝짝짝! 정답이에요! 정말 잘했어요!\n",
            "\n",
            "===== 문제 2 =====\n",
            "다음 문장을 바르게 고쳐보세요:\n",
            "내일 학교에 간다.\n",
            "정답: ㅇ\n",
            "아쉽지만 틀렸어요. 정답은 '내일 학교에 간다.'이에요.\n",
            "왜 틀렸는지 알아볼까요? 이건 틀린 곳이 없어! 잘했어!\n",
            "\n",
            "===== 문제 3 =====\n",
            "다음 문장을 바르게 고쳐보세요:\n",
            "나는 사과를 마니 먹었다.\n",
            "정답: ㅇ\n",
            "아쉽지만 틀렸어요. 정답은 '나는 사과를 많이 먹었다.'이에요.\n",
            "왜 틀렸는지 알아볼까요? 마니 (X), 많이 (O)\n",
            "\n",
            "===== 문제 4 =====\n",
            "다음 문장을 바르게 고쳐보세요:\n",
            "선생님께 인사를 들였다.\n",
            "정답: ㅇ\n",
            "아쉽지만 틀렸어요. 정답은 '선생님께 인사를 드렸다.'이에요.\n",
            "왜 틀렸는지 알아볼까요? 들였다 (X), 드렸다 (O)\n",
            "\n",
            "===== 문제 5 =====\n",
            "다음 문장을 바르게 고쳐보세요:\n",
            "친구가 나에게 선물을 주웠다.\n",
            "정답: ㅇㄴ\n",
            "아쉽지만 틀렸어요. 정답은 '친구가 나에게 선물을 주었다.'이에요.\n",
            "왜 틀렸는지 알아볼까요? 주웠다 (X), 주었다 (O)\n",
            "\n",
            "===== 게임 결과 =====\n",
            "총 5 문제 중에 1 문제를 맞혔어요!\n",
            "괜찮아요! 다시 한번 해보면 더 잘 할 수 있을 거예요!\n",
            "\n",
            "다음에 또 맞춤법 게임 하자!\n"
          ]
        }
      ],
      "source": [
        "# prompt: 초등학교 1학년 동생이 풀 수 있는 조금 어려운 틀린 맞춤법 고치기 게임을 재밌게 만들어줘.예를 들어 다 맞히면 스티커 10개!\n",
        "\n",
        "import random\n",
        "\n",
        "def spelling_game():\n",
        "  \"\"\"\n",
        "  초등학교 1학년을 위한 재미있는 틀린 맞춤법 고치기 게임\n",
        "  \"\"\"\n",
        "  print(\"안녕! 신나는 맞춤법 게임에 온 걸 환영해!\")\n",
        "  print(\"아래 문장에서 틀린 맞춤법을 찾아서 고쳐봐!\")\n",
        "  print(\"문제를 다 맞히면 멋진 스티커를 10개 줄게!\")\n",
        "\n",
        "  problems = [\n",
        "      (\"선생님께 인사를 들였다.\", \"선생님께 인사를 드렸다.\", \"들였다 (X), 드렸다 (O)\"),\n",
        "      (\"내일 학교에 간다.\", \"내일 학교에 간다.\", \"이건 틀린 곳이 없어! 잘했어!\"), # 정답이 없는 문제 추가\n",
        "      (\"나는 사과를 마니 먹었다.\", \"나는 사과를 많이 먹었다.\", \"마니 (X), 많이 (O)\"),\n",
        "      (\"친구가 나에게 선물을 주웠다.\", \"친구가 나에게 선물을 주었다.\", \"주웠다 (X), 주었다 (O)\"),\n",
        "      (\"강아지가 너무 기엽다.\", \"강아지가 너무 귀엽다.\", \"기엽다 (X), 귀엽다 (O)\"),\n",
        "  ]\n",
        "\n",
        "  random.shuffle(problems)\n",
        "  score = 0\n",
        "\n",
        "  for i, (wrong_sentence, correct_sentence, explanation) in enumerate(problems):\n",
        "    print(f\"\\n===== 문제 {i + 1} =====\")\n",
        "    print(f\"다음 문장을 바르게 고쳐보세요:\")\n",
        "    print(wrong_sentence)\n",
        "\n",
        "    user_answer = input(\"정답: \").strip()\n",
        "\n",
        "    if user_answer == correct_sentence:\n",
        "      print(\"짝짝짝! 정답이에요! 정말 잘했어요!\")\n",
        "      score += 1\n",
        "    else:\n",
        "      print(f\"아쉽지만 틀렸어요. 정답은 '{correct_sentence}'이에요.\")\n",
        "      print(f\"왜 틀렸는지 알아볼까요? {explanation}\")\n",
        "\n",
        "  print(\"\\n===== 게임 결과 =====\")\n",
        "  print(f\"총 {len(problems)} 문제 중에 {score} 문제를 맞혔어요!\")\n",
        "\n",
        "  if score == len(problems):\n",
        "    print(\"와! 모든 문제를 다 맞혔어요! 약속대로 스티커 10개!\")\n",
        "  elif score >= len(problems) // 2:\n",
        "    print(\"그래도 많이 맞혔어요! 다음에는 더 잘 할 수 있을 거예요!\")\n",
        "  else:\n",
        "    print(\"괜찮아요! 다시 한번 해보면 더 잘 할 수 있을 거예요!\")\n",
        "\n",
        "  print(\"\\n다음에 또 맞춤법 게임 하자!\")\n",
        "\n",
        "# 게임 시작\n",
        "spelling_game()\n"
      ]
    }
  ]
}