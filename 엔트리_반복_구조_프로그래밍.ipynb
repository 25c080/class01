{
  "nbformat": 4,
  "nbformat_minor": 0,
  "metadata": {
    "colab": {
      "provenance": [],
      "authorship_tag": "ABX9TyPCOUh1ii/zZ2grlhOfw8XQ",
      "include_colab_link": true
    },
    "kernelspec": {
      "name": "python3",
      "display_name": "Python 3"
    },
    "language_info": {
      "name": "python"
    }
  },
  "cells": [
    {
      "cell_type": "markdown",
      "metadata": {
        "id": "view-in-github",
        "colab_type": "text"
      },
      "source": [
        "<a href=\"https://colab.research.google.com/github/25c080/class01/blob/main/%EC%97%94%ED%8A%B8%EB%A6%AC_%EB%B0%98%EB%B3%B5_%EA%B5%AC%EC%A1%B0_%ED%94%84%EB%A1%9C%EA%B7%B8%EB%9E%98%EB%B0%8D.ipynb\" target=\"_parent\"><img src=\"https://colab.research.google.com/assets/colab-badge.svg\" alt=\"Open In Colab\"/></a>"
      ]
    },
    {
      "cell_type": "code",
      "execution_count": 5,
      "metadata": {
        "colab": {
          "base_uri": "https://localhost:8080/"
        },
        "id": "S9M-M7Q5X9cr",
        "outputId": "54a58081-6bbf-43e6-e3a4-9600d22c8d60"
      },
      "outputs": [
        {
          "output_type": "stream",
          "name": "stdout",
          "text": [
            "안녕하세요!\n",
            "1번째 반복입니다.\n",
            "2번째 반복입니다.\n",
            "3번째 반복입니다.\n",
            "4번째 반복입니다.\n",
            "5번째 반복입니다.\n",
            "반복이 끝났습니다.\n",
            "현재 카운트: 0\n",
            "현재 카운트: 1\n",
            "현재 카운트: 2\n",
            "조건 만족 반복이 끝났습니다.\n",
            "과일: 사과\n",
            "과일: 바나나\n",
            "과일: 딸기\n",
            "리스트 반복이 끝났습니다.\n"
          ]
        }
      ],
      "source": [
        "# prompt: 엔트리에 나오는 반복 구조 프로그래밍 코드 짜줘\n",
        "\n",
        "print(\"안녕하세요!\")\n",
        "\n",
        "# 5번 반복하기\n",
        "for i in range(5):\n",
        "  print(f\"{i+1}번째 반복입니다.\")\n",
        "\n",
        "print(\"반복이 끝났습니다.\")\n",
        "\n",
        "# 조건 만족할 때까지 반복하기\n",
        "count = 0\n",
        "while count < 3:\n",
        "  print(f\"현재 카운트: {count}\")\n",
        "  count += 1\n",
        "\n",
        "print(\"조건 만족 반복이 끝났습니다.\")\n",
        "\n",
        "# 리스트의 모든 요소 반복하기\n",
        "my_list = [\"사과\", \"바나나\", \"딸기\"]\n",
        "for item in my_list:\n",
        "  print(f\"과일: {item}\")\n",
        "\n",
        "print(\"리스트 반복이 끝났습니다.\")"
      ]
    }
  ]
}