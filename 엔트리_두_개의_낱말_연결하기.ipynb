{
  "nbformat": 4,
  "nbformat_minor": 0,
  "metadata": {
    "colab": {
      "provenance": [],
      "authorship_tag": "ABX9TyPGApLY3feWpIOQX53AKWMF",
      "include_colab_link": true
    },
    "kernelspec": {
      "name": "python3",
      "display_name": "Python 3"
    },
    "language_info": {
      "name": "python"
    }
  },
  "cells": [
    {
      "cell_type": "markdown",
      "metadata": {
        "id": "view-in-github",
        "colab_type": "text"
      },
      "source": [
        "<a href=\"https://colab.research.google.com/github/25c080/class01/blob/main/%EC%97%94%ED%8A%B8%EB%A6%AC_%EB%91%90_%EA%B0%9C%EC%9D%98_%EB%82%B1%EB%A7%90_%EC%97%B0%EA%B2%B0%ED%95%98%EA%B8%B0.ipynb\" target=\"_parent\"><img src=\"https://colab.research.google.com/assets/colab-badge.svg\" alt=\"Open In Colab\"/></a>"
      ]
    },
    {
      "cell_type": "code",
      "execution_count": 1,
      "metadata": {
        "colab": {
          "base_uri": "https://localhost:8080/"
        },
        "id": "ZTQOxIFBTayS",
        "outputId": "3e19e07e-2dd8-4bfd-ef64-35870c0ddd7b"
      },
      "outputs": [
        {
          "output_type": "stream",
          "name": "stdout",
          "text": [
            "이름이 무엇입니까? 이세아\n",
            "가장 좋아하는 색깔은 무엇입니까? 하양\n",
            "안녕하세요, 이세아! 가장 좋아하는 색깔은 하양이군요.\n"
          ]
        }
      ],
      "source": [
        "# prompt: 이름과 색깔을 묻고 변수에 저장한 다음 이름과 색깔을 이어줘\n",
        "\n",
        "name = input(\"이름이 무엇입니까? \")\n",
        "color = input(\"가장 좋아하는 색깔은 무엇입니까? \")\n",
        "\n",
        "print(\"안녕하세요, \" + name + \"! 가장 좋아하는 색깔은 \" + color + \"이군요.\")"
      ]
    }
  ]
}