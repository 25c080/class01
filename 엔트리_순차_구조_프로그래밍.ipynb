{
  "nbformat": 4,
  "nbformat_minor": 0,
  "metadata": {
    "colab": {
      "provenance": [],
      "authorship_tag": "ABX9TyN2x8l82gnZvPp8/muQkCU3",
      "include_colab_link": true
    },
    "kernelspec": {
      "name": "python3",
      "display_name": "Python 3"
    },
    "language_info": {
      "name": "python"
    }
  },
  "cells": [
    {
      "cell_type": "markdown",
      "metadata": {
        "id": "view-in-github",
        "colab_type": "text"
      },
      "source": [
        "<a href=\"https://colab.research.google.com/github/25c080/class01/blob/main/%EC%97%94%ED%8A%B8%EB%A6%AC_%EC%88%9C%EC%B0%A8_%EA%B5%AC%EC%A1%B0_%ED%94%84%EB%A1%9C%EA%B7%B8%EB%9E%98%EB%B0%8D.ipynb\" target=\"_parent\"><img src=\"https://colab.research.google.com/assets/colab-badge.svg\" alt=\"Open In Colab\"/></a>"
      ]
    },
    {
      "cell_type": "code",
      "execution_count": 17,
      "metadata": {
        "colab": {
          "base_uri": "https://localhost:8080/"
        },
        "id": "ZTQOxIFBTayS",
        "outputId": "2940ff76-24de-4ce6-fba2-ee47d5e0c989"
      },
      "outputs": [
        {
          "output_type": "stream",
          "name": "stdout",
          "text": [
            "변수 1: 10\n",
            "변수 2: 5\n",
            "덧셈 결과: 15\n",
            "뺄셈 결과: 5\n",
            "곱셈 결과: 50\n",
            "나눗셈 결과: 2.0\n",
            "최종 결과 (덧셈 결과 + 다른 변수): 35\n",
            "함수 호출 결과: 200\n"
          ]
        }
      ],
      "source": [
        "# prompt: 엔트리에 있는 순차 구조 프로그래밍처럼 만들어줘\n",
        "\n",
        "# 변수 선언 및 초기화\n",
        "variable1 = 10\n",
        "variable2 = 5\n",
        "\n",
        "# 입력 받기 (Colab에서는 사용자 입력이 어렵지만, 변수로 가정)\n",
        "# user_input = input(\"숫자를 입력하세요: \")\n",
        "# input_number = int(user_input)\n",
        "\n",
        "# 연산 수행\n",
        "result_add = variable1 + variable2\n",
        "result_subtract = variable1 - variable2\n",
        "result_multiply = variable1 * variable2\n",
        "result_divide = variable1 / variable2 # Python 3에서는 부동 소수점 나눗셈\n",
        "\n",
        "# 결과 출력\n",
        "print(\"변수 1:\", variable1)\n",
        "print(\"변수 2:\", variable2)\n",
        "print(\"덧셈 결과:\", result_add)\n",
        "print(\"뺄셈 결과:\", result_subtract)\n",
        "print(\"곱셈 결과:\", result_multiply)\n",
        "print(\"나눗셈 결과:\", result_divide)\n",
        "\n",
        "# 추가적인 순차적 코드 블록\n",
        "another_variable = 20\n",
        "final_result = result_add + another_variable\n",
        "print(\"최종 결과 (덧셈 결과 + 다른 변수):\", final_result)\n",
        "\n",
        "# 함수 호출 (함수도 순차적으로 정의하고 호출)\n",
        "def simple_function(a, b):\n",
        "  return a * b\n",
        "\n",
        "function_output = simple_function(variable1, another_variable)\n",
        "print(\"함수 호출 결과:\", function_output)\n"
      ]
    }
  ]
}