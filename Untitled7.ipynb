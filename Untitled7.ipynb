{
  "nbformat": 4,
  "nbformat_minor": 0,
  "metadata": {
    "colab": {
      "provenance": [],
      "authorship_tag": "ABX9TyMubiGmVQuicFJY3DDCoUP4",
      "include_colab_link": true
    },
    "kernelspec": {
      "name": "python3",
      "display_name": "Python 3"
    },
    "language_info": {
      "name": "python"
    }
  },
  "cells": [
    {
      "cell_type": "markdown",
      "metadata": {
        "id": "view-in-github",
        "colab_type": "text"
      },
      "source": [
        "<a href=\"https://colab.research.google.com/github/25c080/class01/blob/main/Untitled7.ipynb\" target=\"_parent\"><img src=\"https://colab.research.google.com/assets/colab-badge.svg\" alt=\"Open In Colab\"/></a>"
      ]
    },
    {
      "cell_type": "code",
      "execution_count": 2,
      "metadata": {
        "colab": {
          "base_uri": "https://localhost:8080/"
        },
        "id": "wFVETSf6OV6Y",
        "outputId": "18205f22-c540-4b48-a455-674b8fdad4e1"
      },
      "outputs": [
        {
          "output_type": "stream",
          "name": "stdout",
          "text": [
            "🎈 받침 게임에 온 걸 환영해! 🎈\n",
            "화면에 나오는 단어의 마지막 글자 받침을 맞춰봐!\n",
            "모르는 받침은 '몰라요'라고 말해도 돼!\n",
            "\n",
            "1번째 문제!\n",
            "이 단어는 뭘까요? 👉 '곰'\n",
            "이 단어의 마지막 글자 받침은 뭘까? (예: ㄱ, ㄴ, 몰라요) : ㅁ\n",
            "🎉 와! 정답이야! 정말 똑똑하다! 🎉\n",
            "\n",
            "2번째 문제!\n",
            "이 단어는 뭘까요? 👉 '우체국'\n",
            "이 단어의 마지막 글자 받침은 뭘까? (예: ㄱ, ㄴ, 몰라요) : ㄴ\n",
            "아쉽다! 정답은 'ㄱ'이었어. 다음에 꼭 맞춰보자!\n",
            "\n",
            "3번째 문제!\n",
            "이 단어는 뭘까요? 👉 '원숭이'\n",
            "이 단어의 마지막 글자 받침은 뭘까? (예: ㄱ, ㄴ, 몰라요) : 몰라요\n",
            "괜찮아! 이 단어 '원숭이'의 받침은 'ㅇ'이었어.\n",
            "\n",
            "4번째 문제!\n",
            "이 단어는 뭘까요? 👉 '친구'\n",
            "이 단어의 마지막 글자 받침은 뭘까? (예: ㄱ, ㄴ, 몰라요) : ㅁ\n",
            "아쉽다! 정답은 'ㄱ'이었어. 다음에 꼭 맞춰보자!\n",
            "\n",
            "5번째 문제!\n",
            "이 단어는 뭘까요? 👉 '산'\n",
            "이 단어의 마지막 글자 받침은 뭘까? (예: ㄱ, ㄴ, 몰라요) : ㅁ\n",
            "아쉽다! 정답은 'ㄴ'이었어. 다음에 꼭 맞춰보자!\n",
            "\n",
            "✨ 게임 끝! 네 점수는 1점이야! ✨\n",
            "😊 괜찮아! 다음에 다시 도전하면 돼! 힘내! 😊\n"
          ]
        }
      ],
      "source": [
        "# prompt: 초등학생 1학년 동생이 풀 수 있는 조금 어려운 한글 받침 게임을 재밌게 만들어줘.\n",
        "\n",
        "print(\"동생아, 안녕! 오늘은 받침 게임을 해 볼 거야. 조금 어렵지만 정말 재미있을 거야!\")\n",
        "print(\"준비됐으면 시작해 보자!\")\n",
        "\n",
        "import random\n",
        "\n",
        "words_with_bachim = {\n",
        "    \"ㄱ\": [\"부엌\", \"주먹\", \"턱\", \"책\", \"국\"],\n",
        "    \"ㄴ\": [\"손\", \"산\", \"눈\", \"문\", \"돈\"],\n",
        "    \"ㄷ\": [\"숟가락\", \"믿음\", \"밭\", \"곧\", \"닫기\"],\n",
        "    \"ㄹ\": [\"말\", \"달\", \"별\", \"물\", \"길\"],\n",
        "    \"ㅁ\": [\"밤\", \"곰\", \"감\", \"꿈\", \"몸\"],\n",
        "    \"ㅂ\": [\"밥\", \"입\", \"숲\", \"집\", \"탑\"],\n",
        "    \"ㅅ\": [\"옷\", \"낫\", \"빗\", \"엿\", \"짓\"],\n",
        "    \"ㅇ\": [\"방\", \"공\", \"강\", \"창\", \"상\"],\n",
        "    \"ㅈ\": [\"낮\", \"빚\", \"젖\", \"꽃잎\", \"빛깔\"],\n",
        "    \"ㅊ\": [\"쫓다\", \"꽃밭\", \"꽃집\", \"꽃잎\", \"빛깔\"], # ㅈ, ㅊ은 소리가 같음\n",
        "    \"ㅋ\": [\"부엌\", \"밖\", \"녘\", \"섟\", \"턱\"],\n",
        "    \"ㅌ\": [\"밭\", \"솥\", \"숱\", \"옻\", \"곧\"],\n",
        "    \"ㅍ\": [\"숲\", \"앞\", \"무릎\", \"옆\", \"덮개\"],\n",
        "    \"ㅎ\": [\"좋다\", \"놓다\", \"쌓다\", \"넣다\", \"닳다\"]\n",
        "}\n",
        "\n",
        "bachim_list = list(words_with_bachim.keys())\n",
        "\n",
        "score = 0\n",
        "num_questions = 5\n",
        "\n",
        "for i in range(num_questions):\n",
        "    print(f\"\\n{i+1}번째 문제!\")\n",
        "\n",
        "    # 랜덤으로 받침 하나 선택\n",
        "    correct_bachim = random.choice(bachim_list)\n",
        "\n",
        "    # 해당 받침이 있는 단어들 가져오기\n",
        "    word_options = words_with_bachim[correct_bachim]\n",
        "\n",
        "    # 그 중에서 랜덤으로 단어 하나 선택\n",
        "    target_word = random.choice(word_options)\n",
        "\n",
        "    print(f\"이 단어의 받침은 무엇일까요? --> [{target_word}]\")\n",
        "\n",
        "    # 오답 선택지 만들기\n",
        "    incorrect_bachims = random.sample([b for b in bachim_list if b != correct_bachim], 2)\n",
        "    options = [correct_bachim] + incorrect_bachims\n",
        "    random.shuffle(options)\n",
        "\n",
        "    # 선택지 보여주기\n",
        "    print(\"선택지:\")\n",
        "    for j, option in enumerate(options):\n",
        "        print(f\"{j+1}. {option}\")\n",
        "\n",
        "    while True:\n",
        "        try:\n",
        "            user_choice = int(input(\"정답 번호를 입력하세요: \"))\n",
        "            if 1 <= user_choice <= len(options):\n",
        "                break\n",
        "            else:\n",
        "                print(\"잘못된 번호입니다. 다시 입력해주세요.\")\n",
        "        except ValueError:\n",
        "            print(\"숫자를 입력해주세요.\")\n",
        "\n",
        "    selected_bachim = options[user_choice - 1]\n",
        "\n",
        "    if selected_bachim == correct_bachim:\n",
        "        print(\"정답! 정말 대단해!\")\n",
        "        score += 1\n",
        "    else:\n",
        "        print(f\"아쉽지만 정답은 [{correct_bachim}]이었어. 다음 문제에 다시 도전해보자!\")\n",
        "\n",
        "print(f\"\\n게임 끝! 총 {num_questions} 문제 중에 {score}개를 맞혔어!\")\n",
        "if score == num_questions:\n",
        "    print(\"와! 전부 다 맞혔구나! 정말 똑똑해!\")\n",
        "elif score >= num_questions / 2:\n",
        "    print(\"절반 이상 맞혔네! 정말 잘했어!\")\n",
        "else:\n",
        "    print(\"괜찮아! 다음에 다시 도전하면 더 잘할 수 있을 거야!\")\n",
        "\n",
        "print(\"다음에 또 받침 게임 하자!\")"
      ]
    }
  ]
}